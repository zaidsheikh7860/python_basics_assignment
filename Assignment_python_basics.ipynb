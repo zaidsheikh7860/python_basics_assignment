{
 "cells": [
  {
   "cell_type": "markdown",
   "id": "593a4a37-59f7-456a-b529-3c984ad2a838",
   "metadata": {
    "tags": []
   },
   "source": [
    "# Python Basics Assignment"
   ]
  },
  {
   "cell_type": "markdown",
   "id": "0ea443ed-d017-4e6e-8346-e03b1322ae26",
   "metadata": {},
   "source": [
    "## Ques.1 Explain the key features of Python that makes it a popular choice for programming."
   ]
  },
  {
   "cell_type": "raw",
   "id": "83fcafcf-3c9f-4469-84c2-43246d86e04c",
   "metadata": {},
   "source": [
    "Python is a popular programming language due to several key features that make it accessible, powerful and versatile like:\n",
    "\n",
    "1. Python programming language is very simple and readabbe, and it's syntax is designed to clean and readable that allows programmersto write code more quickly and with fewer errors.\n",
    "\n",
    "2. Python is a HIgh-Level language that abstracts away many complex details of the computer, such as memory management.\n",
    "\n",
    "3. It is a interpreted language, which means it is executed line by line rather than beinbg compiled all at once.\n",
    "\n",
    "4. Python is a cross platform programming language, meaning it can run on various operating systems like Windows, MacOS, and Linux without modification.\n",
    "\n",
    "5. Python comes with a vast standard library that provides modules and functions for tasks like file handling, regular expressions, networking, and even web services. This reduces the need for external libraries and simplifies development.\n",
    "\n",
    "6. Python has a large and active community that contributes to its development, provides learning resources, and maintains an extensive ecosystem of libraries. This community ensures that the language stays up to date and well-supported.\n",
    "\n",
    "7. Python uses dynamic typing, which means variables do not need to be declared with a specific type. This flexibility makes development faster, though it may introduce type-related bugs if not carefully managed.\n",
    "\n",
    "8. Python is used in various fields like web development and due to its simplicity and flexibility it is an excellent language for quickly prototyping and iterating on ideas, particularly in industries like data science and AI.\n"
   ]
  },
  {
   "cell_type": "markdown",
   "id": "841b9b41-7306-46b6-bab8-b457303f90a6",
   "metadata": {},
   "source": [
    "## Ques 2. Describe the role of predefined keywords in python and provide examples of how they are used in a program."
   ]
  },
  {
   "cell_type": "raw",
   "id": "2d0a6f7e-3c81-490d-ba9f-bcc5b414ed07",
   "metadata": {},
   "source": [
    "Predefined keywords in Python are reserved words that have special meanings and functions within the language. These keywords cannot be used as identifiers (e.g., variable or function names) because they are part of the Python syntax. They are used to define the structure and flow of a program, such as defining conditions, loops, functions, and more.\n",
    "\n",
    "Role of Predefined Keywords in Python are\n",
    "Control Flow: Keywords like if, elif, else, while, and for are used to control the flow of the program.\n",
    "Data Types: Keywords like True, False, and None represent special data types.\n",
    "Function and Class Definitions: Keywords like def and class are used to define functions and classes.\n",
    "Error Handling: Keywords like try, except, and finally are used for exception handling.\n",
    "Logical Operations: Keywords like and, or, and not are used to perform logical operations."
   ]
  },
  {
   "cell_type": "markdown",
   "id": "88909e56-fb57-45cf-8ca3-7fe9c5edf2e0",
   "metadata": {},
   "source": [
    "### Some Examples of predefined keywords  and their usage"
   ]
  },
  {
   "cell_type": "code",
   "execution_count": 1,
   "id": "b88fb7b5-9489-4d19-a28e-3b61afb0a3e6",
   "metadata": {},
   "outputs": [
    {
     "name": "stdout",
     "output_type": "stream",
     "text": [
      "x is greater than 5\n"
     ]
    }
   ],
   "source": [
    "# Control Flow (if, elif, else): These keywords control the execution of code based on conditions.\n",
    "\n",
    "x = 10\n",
    "if x > 5:\n",
    "    print(\"x is greater than 5\")\n",
    "elif x == 5:\n",
    "    print(\"x is equal to 5\")\n",
    "else:\n",
    "    print(\"x is less than 5\")\n",
    "\n",
    "# if checks if the condition is true, elif checks another condition if the first one is false, and else runs if all conditions are false."
   ]
  },
  {
   "cell_type": "code",
   "execution_count": 8,
   "id": "7e9b1519-b8b4-4fe7-bdbc-91d6b0df4296",
   "metadata": {},
   "outputs": [
    {
     "name": "stdout",
     "output_type": "stream",
     "text": [
      "0\n",
      "1\n",
      "2\n",
      "3\n",
      "4\n"
     ]
    }
   ],
   "source": [
    "# Iterating over a range of numbers\n",
    "for i in range(5):\n",
    "    print(i)"
   ]
  },
  {
   "cell_type": "code",
   "execution_count": 10,
   "id": "8e6364bc-6f29-44ec-832c-ddd48b213ce5",
   "metadata": {},
   "outputs": [
    {
     "name": "stdout",
     "output_type": "stream",
     "text": [
      "apple\n",
      "banana\n",
      "cherry\n"
     ]
    }
   ],
   "source": [
    "# Iterating over a list\n",
    "fruits = [\"apple\", \"banana\", \"cherry\"]\n",
    "\n",
    "for fruit in fruits:\n",
    "    print(fruit)\n"
   ]
  },
  {
   "cell_type": "code",
   "execution_count": 11,
   "id": "e7983c1b-60c6-4eab-bbc0-b0f0e8f7ec81",
   "metadata": {},
   "outputs": [
    {
     "name": "stdout",
     "output_type": "stream",
     "text": [
      "1\n",
      "2\n",
      "4\n"
     ]
    }
   ],
   "source": [
    "# Using break and continue in for loop\n",
    "for num in range(1, 6):\n",
    "    if num == 3:\n",
    "        continue  # Skip the rest of the loop when num is 3\n",
    "    if num == 5:\n",
    "        break  # Exit the loop when num is 5\n",
    "    print(num)\n"
   ]
  },
  {
   "cell_type": "code",
   "execution_count": 12,
   "id": "f0575405-c8f7-4beb-a7ca-764243c8c958",
   "metadata": {},
   "outputs": [
    {
     "name": "stdout",
     "output_type": "stream",
     "text": [
      "0\n",
      "1\n",
      "2\n",
      "3\n",
      "4\n"
     ]
    }
   ],
   "source": [
    "# Basic while loop\n",
    "count = 0\n",
    "\n",
    "while count < 5:\n",
    "    print(count)\n",
    "    count += 1  # Increment count to avoid an infinite loop\n"
   ]
  },
  {
   "cell_type": "code",
   "execution_count": 13,
   "id": "1c3d0c61-7ce5-4690-b425-01d9e7960dcc",
   "metadata": {},
   "outputs": [
    {
     "name": "stdout",
     "output_type": "stream",
     "text": [
      "0\n",
      "1\n",
      "2\n",
      "3\n",
      "4\n",
      "5\n",
      "6\n"
     ]
    }
   ],
   "source": [
    "# Using break to exit the loop early\n",
    "num = 0\n",
    "\n",
    "while num < 10:\n",
    "    print(num)\n",
    "    if num == 6:\n",
    "        break  # Exit the loop when num is 6\n",
    "    num += 1\n"
   ]
  },
  {
   "cell_type": "code",
   "execution_count": 14,
   "id": "5311184a-939e-4dd4-b5dc-f148904d6e9e",
   "metadata": {},
   "outputs": [
    {
     "name": "stdout",
     "output_type": "stream",
     "text": [
      "1\n",
      "2\n",
      "3\n",
      "5\n",
      "6\n",
      "7\n"
     ]
    }
   ],
   "source": [
    "# Using continue with while loop\n",
    " x = 0\n",
    "\n",
    "while x < 7:\n",
    "    x += 1\n",
    "    if x == 4:\n",
    "        continue  # Skip printing when x is 4\n",
    "    print(x)\n"
   ]
  },
  {
   "cell_type": "code",
   "execution_count": 16,
   "id": "5194cdf4-c2c9-4b45-9007-8d159521fea6",
   "metadata": {},
   "outputs": [
    {
     "name": "stdout",
     "output_type": "stream",
     "text": [
      "Eligible for student discount\n"
     ]
    }
   ],
   "source": [
    "# Basic use of 'and' in an if statement\n",
    "age = 25\n",
    "is_student = True\n",
    "\n",
    "if age > 18 and is_student:\n",
    "    print(\"Eligible for student discount\")\n",
    "# Both conditions (age > 18 and is_student) are True, so the message is printed."
   ]
  },
  {
   "cell_type": "code",
   "execution_count": 17,
   "id": "c0d40639-ca26-477c-bb57-269961051fc6",
   "metadata": {},
   "outputs": [
    {
     "name": "stdout",
     "output_type": "stream",
     "text": [
      "Both conditions are true\n"
     ]
    }
   ],
   "source": [
    "# Checking multiple conditions\n",
    "x = 10\n",
    "y = 20\n",
    "z = 30\n",
    "\n",
    "if x < y and y < z:\n",
    "    print(\"Both conditions are true\")\n",
    "# Since both conditions (x < y and y < z) are True, the message is printed."
   ]
  },
  {
   "cell_type": "code",
   "execution_count": 18,
   "id": "bf121850-90f3-469d-ac11-6b5bc478792b",
   "metadata": {},
   "outputs": [
    {
     "name": "stdout",
     "output_type": "stream",
     "text": [
      "True\n",
      "False\n"
     ]
    }
   ],
   "source": [
    "# Using 'and' in a function return statement\n",
    "def is_adult(age, has_id):\n",
    "    return age >= 18 and has_id\n",
    "\n",
    "print(is_adult(20, True))  # Outputs: True\n",
    "print(is_adult(17, True))  # Outputs: False\n",
    " # The function returns True only if both conditions (age >= 18 and has_id) are True."
   ]
  },
  {
   "cell_type": "code",
   "execution_count": 1,
   "id": "22e50b7c-bd57-48fc-a6b5-23f039bd5822",
   "metadata": {},
   "outputs": [
    {
     "name": "stdout",
     "output_type": "stream",
     "text": [
      "Stay indoors\n"
     ]
    }
   ],
   "source": [
    "# Basic use of 'or' in an if statement\n",
    "weather = \"rainy\"\n",
    "is_weekend = False\n",
    "\n",
    "if weather == \"sunny\" or is_weekend:\n",
    "    print(\"Go for a picnic\")\n",
    "else:\n",
    "    print(\"Stay indoors\")\n"
   ]
  },
  {
   "cell_type": "code",
   "execution_count": 6,
   "id": "57574e29-ad2a-4645-b7c4-2005837c4c7a",
   "metadata": {},
   "outputs": [
    {
     "name": "stdout",
     "output_type": "stream",
     "text": [
      "At least one condition is true\n"
     ]
    }
   ],
   "source": [
    "# Checking multiple conditions\n",
    "x = 5\n",
    "y = 15\n",
    "\n",
    "if x < 10 or y > 20:\n",
    "    print(\"At least one condition is true\")\n"
   ]
  },
  {
   "cell_type": "code",
   "execution_count": 7,
   "id": "31cf0bc7-b52d-46e9-b6c1-d2ec082e4c9d",
   "metadata": {},
   "outputs": [
    {
     "name": "stdout",
     "output_type": "stream",
     "text": [
      "True\n",
      "False\n"
     ]
    }
   ],
   "source": [
    "# Example: Using 'or' in a function return statement\n",
    "def is_valid_input(a, b):\n",
    "    return a > 0 or b > 0\n",
    "\n",
    "print(is_valid_input(-5, 10))  # Outputs: True\n",
    "print(is_valid_input(-5, -3))  # Outputs: False\n"
   ]
  },
  {
   "cell_type": "markdown",
   "id": "2e3ab9b1-6792-492e-83e8-493516f9fe64",
   "metadata": {},
   "source": [
    "## Ques 3. Compare and contrast mutable and immutable objects in python with examples."
   ]
  },
  {
   "cell_type": "markdown",
   "id": "e3318548-6aae-4067-8b37-1c2652cdc742",
   "metadata": {},
   "source": [
    "### Mutable objects"
   ]
  },
  {
   "cell_type": "raw",
   "id": "d9b47e9d-180c-4017-bbb5-5aac76e767fb",
   "metadata": {},
   "source": [
    "Mutable objects are those whose value or content can be changed after creation.\n",
    "lists, dictionaries, sets, byte arrays, values of these can be changed after creation.\n",
    "you can modify the contentd of the objects.\n",
    "Changes made to the object will be reflected in all references to that object.\n",
    "They support in place modification methods and key-value assignment in dictionaries.\n",
    "Python does not need to allocate a new memory address for modified values changes occur in place because their contents can chyange"
   ]
  },
  {
   "cell_type": "markdown",
   "id": "f789b149-0e4a-4ac4-bba8-a7e4bbbb1890",
   "metadata": {},
   "source": [
    "### Examples of mutable objects"
   ]
  },
  {
   "cell_type": "code",
   "execution_count": 8,
   "id": "c3a585b4-181e-4609-847c-85a997b0c382",
   "metadata": {},
   "outputs": [
    {
     "name": "stdout",
     "output_type": "stream",
     "text": [
      "[1, 2, 3, 4]\n",
      "[10, 2, 3, 4]\n"
     ]
    }
   ],
   "source": [
    "# Example of mutable list\n",
    "my_list = [1, 2, 3]\n",
    "my_list.append(4)  # Adding an element\n",
    "print(my_list)  # Output: [1, 2, 3, 4]\n",
    "\n",
    "my_list[0] = 10  # Modifying an element\n",
    "print(my_list)  # Output: [10, 2, 3, 4]\n"
   ]
  },
  {
   "cell_type": "code",
   "execution_count": 9,
   "id": "e1b1698d-3019-49bb-a6f2-3448b3927796",
   "metadata": {},
   "outputs": [
    {
     "name": "stdout",
     "output_type": "stream",
     "text": [
      "{'a': 1, 'b': 2, 'c': 3}\n",
      "{'a': 10, 'b': 2, 'c': 3}\n"
     ]
    }
   ],
   "source": [
    "# Example of mutable dictionary\n",
    "my_dict = {'a': 1, 'b': 2}\n",
    "my_dict['c'] = 3  # Adding a new key-value pair\n",
    "print(my_dict)  # Output: {'a': 1, 'b': 2, 'c': 3}\n",
    "\n",
    "my_dict['a'] = 10  # Modifying an existing value\n",
    "print(my_dict)  # Output: {'a': 10, 'b': 2, 'c': 3}\n"
   ]
  },
  {
   "cell_type": "markdown",
   "id": "99b3e67d-dffe-491b-939c-d894abcabcb0",
   "metadata": {},
   "source": [
    "### Immutable objects"
   ]
  },
  {
   "cell_type": "raw",
   "id": "70d369ec-d212-4742-9ea8-ce3273031247",
   "metadata": {},
   "source": [
    "Immutable objects are those whose value or state cannot be changed after their creation are called immutable objects.\n",
    "Tuples, Strings, integers, floats and frozen sets are the examples of immutable objects.\n",
    "You cannot modify the object after it is created. Any operation that seems to change the object will actually create a new object.\n",
    "Each time an immutable object is modified python creates a new object in memory.\n"
   ]
  },
  {
   "cell_type": "markdown",
   "id": "4796a674-b9f8-4ec8-b2ea-0b2d03aabaff",
   "metadata": {},
   "source": [
    "### Examples of immutable objets"
   ]
  },
  {
   "cell_type": "code",
   "execution_count": 10,
   "id": "5d740fee-eed9-401f-8ad1-c92953d7758c",
   "metadata": {},
   "outputs": [
    {
     "name": "stdout",
     "output_type": "stream",
     "text": [
      "hello\n",
      "hello world\n"
     ]
    }
   ],
   "source": [
    "# Example of immutable string\n",
    "my_str = \"hello\"\n",
    "new_str = my_str + \" world\"  # A new string is created\n",
    "print(my_str)   # Output: \"hello\"\n",
    "print(new_str)  # Output: \"hello world\""
   ]
  },
  {
   "cell_type": "code",
   "execution_count": 12,
   "id": "cbfb3a31-555a-41c0-98eb-bbd39c616210",
   "metadata": {},
   "outputs": [
    {
     "ename": "IndentationError",
     "evalue": "unexpected indent (439931131.py, line 3)",
     "output_type": "error",
     "traceback": [
      "\u001b[0;36m  Cell \u001b[0;32mIn[12], line 3\u001b[0;36m\u001b[0m\n\u001b[0;31m    my_tuple[0] = 10  # This would raise a TypeError because tuples are immutable\u001b[0m\n\u001b[0m    ^\u001b[0m\n\u001b[0;31mIndentationError\u001b[0m\u001b[0;31m:\u001b[0m unexpected indent\n"
     ]
    }
   ],
   "source": [
    "# Example of immutable tuple\n",
    "my_tuple = (1, 2, 3)\n",
    " my_tuple[0] = 10  # This would raise a TypeError because tuples are immutable\n",
    "\n",
    "# You can access elements but not modify them\n",
    "print(my_tuple[0])  # Output: 1\n"
   ]
  },
  {
   "cell_type": "markdown",
   "id": "f5d2a626-7aad-422d-825d-342406f06101",
   "metadata": {},
   "source": [
    "## Ques 4. Discuss the different types of operators in python and provide some exqamples how they are used."
   ]
  },
  {
   "cell_type": "markdown",
   "id": "44f942e2-d5b8-4dfc-89c3-b9faa21b60e2",
   "metadata": {},
   "source": [
    "### Arithmetic operators"
   ]
  },
  {
   "cell_type": "raw",
   "id": "76f75307-adef-4b8e-afaa-9a1c227779af",
   "metadata": {},
   "source": [
    "These are used to perform basic mathematical operations like addition, subtraction, multiplication, etc. They work on numeric values. They are Addition, Subtraction, Multiplication, Division, Floor Division, Modulus, Exponentiation"
   ]
  },
  {
   "cell_type": "markdown",
   "id": "cd407c05-741c-4da9-ba93-7c644dcc6279",
   "metadata": {},
   "source": [
    "### Examples of Arithmetic operators"
   ]
  },
  {
   "cell_type": "code",
   "execution_count": 9,
   "id": "a197ffcd-a379-4b22-a545-654d261074d7",
   "metadata": {},
   "outputs": [
    {
     "name": "stdout",
     "output_type": "stream",
     "text": [
      "15\n"
     ]
    }
   ],
   "source": [
    "# Addition\n",
    "a = 10 + 5   # 15\n",
    "print(a)"
   ]
  },
  {
   "cell_type": "code",
   "execution_count": 12,
   "id": "ca79e221-e3f9-4161-8d76-9b2380f405e0",
   "metadata": {},
   "outputs": [
    {
     "name": "stdout",
     "output_type": "stream",
     "text": [
      "5\n"
     ]
    }
   ],
   "source": [
    "# Subtraction\n",
    "b = 10 - 5   # 5\n",
    "print(b)"
   ]
  },
  {
   "cell_type": "code",
   "execution_count": 14,
   "id": "a7c502f8-0aef-4b7e-970c-10b1dfc9273a",
   "metadata": {},
   "outputs": [
    {
     "name": "stdout",
     "output_type": "stream",
     "text": [
      "20\n"
     ]
    }
   ],
   "source": [
    "# Multiplication\n",
    "c = 10 * 2   # 20\n",
    "print(c)\n"
   ]
  },
  {
   "cell_type": "code",
   "execution_count": 15,
   "id": "e0a43916-5b7e-44ed-8751-8fa9b56d66a8",
   "metadata": {},
   "outputs": [
    {
     "name": "stdout",
     "output_type": "stream",
     "text": [
      "5.0\n"
     ]
    }
   ],
   "source": [
    "# Division\n",
    "d = 10 / 2   # 5.0\n",
    "print(d)"
   ]
  },
  {
   "cell_type": "markdown",
   "id": "6a8dca03-dbe9-45e3-89ca-530dda445830",
   "metadata": {},
   "source": [
    "###  Comparison Operators"
   ]
  },
  {
   "cell_type": "raw",
   "id": "f6cf455c-9740-4590-a2ca-0acd5ee6b4ab",
   "metadata": {},
   "source": [
    "These operators compare two values and return a boolean result (True or False). They are used in conditional expressions.\n",
    "Greater than, Less than.\n",
    "Greater than or equal to, Less than or equal to.\n",
    "Equal to, Not equal to."
   ]
  },
  {
   "cell_type": "markdown",
   "id": "1adbb61e-1bef-47b6-85e1-ed1419f70da4",
   "metadata": {},
   "source": [
    "### Examples of Comparison Operatorss"
   ]
  },
  {
   "cell_type": "code",
   "execution_count": 16,
   "id": "185fa97a-6696-45a9-9985-5399afe171e6",
   "metadata": {},
   "outputs": [
    {
     "name": "stdout",
     "output_type": "stream",
     "text": [
      "True\n"
     ]
    }
   ],
   "source": [
    "# Greater than \n",
    "a = 10 > 5    # True\n",
    "print(a)"
   ]
  },
  {
   "cell_type": "code",
   "execution_count": 17,
   "id": "4b2397b9-5b3f-4fb7-abfc-68864bf1da8a",
   "metadata": {},
   "outputs": [
    {
     "name": "stdout",
     "output_type": "stream",
     "text": [
      "False\n"
     ]
    }
   ],
   "source": [
    "# Less than\n",
    "b = 10 < 5    # False\n",
    "print(b)\n"
   ]
  },
  {
   "cell_type": "code",
   "execution_count": 18,
   "id": "362d3ca4-59fe-44fd-8ec6-4d7de5cfa67f",
   "metadata": {},
   "outputs": [
    {
     "name": "stdout",
     "output_type": "stream",
     "text": [
      "True\n"
     ]
    }
   ],
   "source": [
    "# Equal to\n",
    "c = 10 == 10  # True\n",
    "print(c)\n"
   ]
  },
  {
   "cell_type": "code",
   "execution_count": 19,
   "id": "d0f6e2b0-f37e-4aeb-8c05-ae61fdc0e3f0",
   "metadata": {},
   "outputs": [
    {
     "name": "stdout",
     "output_type": "stream",
     "text": [
      "True\n"
     ]
    }
   ],
   "source": [
    "# Not equal to\n",
    "d = 10 != 5   # True\n",
    "print(d)\n"
   ]
  },
  {
   "cell_type": "markdown",
   "id": "21bfbdab-1cc8-4d1e-b1f9-1fb8ccb80504",
   "metadata": {},
   "source": [
    "### Assignment Operators"
   ]
  },
  {
   "cell_type": "raw",
   "id": "9675d2fa-1e8a-4eda-9286-972a1b637a8b",
   "metadata": {},
   "source": [
    "These are used to assign values to variables. Some also perform operations while assigning.\n",
    "Simple assignment\n",
    "Compound assignment operators like add and assign, subtract and assign, multiply and assign, etc."
   ]
  },
  {
   "cell_type": "markdown",
   "id": "97f136eb-66f1-4112-b8b6-f8102c3d525e",
   "metadata": {},
   "source": [
    "### Examples of Assignment Operators"
   ]
  },
  {
   "cell_type": "code",
   "execution_count": 20,
   "id": "456e7d52-eeb1-4550-b666-490cc13b406e",
   "metadata": {},
   "outputs": [
    {
     "name": "stdout",
     "output_type": "stream",
     "text": [
      "5\n"
     ]
    }
   ],
   "source": [
    "# Simple Assignment\n",
    "a = 5         # a is assigned 5\n",
    "print(a)\n"
   ]
  },
  {
   "cell_type": "code",
   "execution_count": 21,
   "id": "dcf050a7-daae-4520-afc4-dba359ebfc2d",
   "metadata": {},
   "outputs": [
    {
     "name": "stdout",
     "output_type": "stream",
     "text": [
      "7\n"
     ]
    }
   ],
   "source": [
    "# Add and Assign,\n",
    "a += 2        # a = a + 2, now a is 7\n",
    "print(a)"
   ]
  },
  {
   "cell_type": "code",
   "execution_count": 22,
   "id": "44303592-6a1a-4239-a7db-399a5e86fd43",
   "metadata": {},
   "outputs": [
    {
     "name": "stdout",
     "output_type": "stream",
     "text": [
      "12\n"
     ]
    }
   ],
   "source": [
    "# Multiply and Assign\n",
    "b = 3\n",
    "b *= 4        # b = b * 4, now b is 12\n",
    "print(b)\n"
   ]
  },
  {
   "cell_type": "markdown",
   "id": "a31e430d-03bd-4b15-a64f-985a583184db",
   "metadata": {},
   "source": [
    "### Logical Operqators"
   ]
  },
  {
   "cell_type": "raw",
   "id": "a7ef3a6d-b7bb-4295-9ad9-442f52f21127",
   "metadata": {},
   "source": [
    "Logical operators are used to combine conditional statements and work with Boolean values.\n",
    "and (True if both statements are true)\n",
    "or (True if at least one statement is true)\n",
    "not (Reverses the Boolean value)"
   ]
  },
  {
   "cell_type": "markdown",
   "id": "5a36258f-7495-489c-be17-2ffbc54224a2",
   "metadata": {},
   "source": [
    "### Examples of Logical Operators"
   ]
  },
  {
   "cell_type": "code",
   "execution_count": 23,
   "id": "b559ac9d-90b5-4661-a6ba-5aa048c39d2a",
   "metadata": {},
   "outputs": [
    {
     "name": "stdout",
     "output_type": "stream",
     "text": [
      "True\n"
     ]
    }
   ],
   "source": [
    "# and operator\n",
    "a = (10 > 5) and (5 < 10)   # True\n",
    "print(a)\n"
   ]
  },
  {
   "cell_type": "code",
   "execution_count": 24,
   "id": "fd21eabd-2c74-464e-9889-32cfc6843876",
   "metadata": {},
   "outputs": [
    {
     "name": "stdout",
     "output_type": "stream",
     "text": [
      "True\n"
     ]
    }
   ],
   "source": [
    "# or\n",
    "b = (10 > 5) or (5 > 10)    # True\n",
    "print(b)\n"
   ]
  },
  {
   "cell_type": "code",
   "execution_count": 25,
   "id": "de85eff2-5989-4d3a-80b9-5ea227258615",
   "metadata": {},
   "outputs": [
    {
     "name": "stdout",
     "output_type": "stream",
     "text": [
      "False\n"
     ]
    }
   ],
   "source": [
    "# not\n",
    "c = not (10 > 5)            # False\n",
    "print(c)"
   ]
  },
  {
   "cell_type": "markdown",
   "id": "27d06740-3ff2-47f2-bbd1-cfaea74b6899",
   "metadata": {},
   "source": [
    "### Bitwise Oprators"
   ]
  },
  {
   "cell_type": "raw",
   "id": "0b703445-26b0-41be-971e-18892dd8fc39",
   "metadata": {},
   "source": [
    "Bitwisw operators work on bits and perform bit by bit operations. They are mostly used in lower-level programming.\n",
    "AND, OR, XOR (exclusive OR)\n",
    "NOT (bitwise negation)\n",
    "Shift operators (left shift, right shift)"
   ]
  },
  {
   "cell_type": "markdown",
   "id": "b120372a-3215-4e4d-ac3c-96dca2de8c9c",
   "metadata": {},
   "source": [
    "### Examples of Bitwise Operators"
   ]
  },
  {
   "cell_type": "code",
   "execution_count": 55,
   "id": "8d78e5f0-a91d-48e8-9b61-1f3a4bccd267",
   "metadata": {},
   "outputs": [
    {
     "data": {
      "text/plain": [
       "'0b1'"
      ]
     },
     "execution_count": 55,
     "metadata": {},
     "output_type": "execute_result"
    }
   ],
   "source": [
    "# Bitwise AND\n",
    "a = 5 & 3    # 1 (binary 0101 & 0011 = 0001)\n",
    "bin(a)"
   ]
  },
  {
   "cell_type": "code",
   "execution_count": 29,
   "id": "387cfdea-8d3b-43a1-b208-db618aef8aee",
   "metadata": {},
   "outputs": [
    {
     "data": {
      "text/plain": [
       "'0b111'"
      ]
     },
     "execution_count": 29,
     "metadata": {},
     "output_type": "execute_result"
    }
   ],
   "source": [
    "# Bitwise OR\n",
    "b = 5 | 3    # 7 (binary 0101 | 0011 = 0111)\n",
    "bin(b)"
   ]
  },
  {
   "cell_type": "code",
   "execution_count": 56,
   "id": "3c015c46-d441-4d6e-97a7-fe64d179a8e8",
   "metadata": {},
   "outputs": [
    {
     "data": {
      "text/plain": [
       "'0b110'"
      ]
     },
     "execution_count": 56,
     "metadata": {},
     "output_type": "execute_result"
    }
   ],
   "source": [
    "# Bitwise XOR\n",
    "c = 5 ^ 3    # 6 (binary 0101 ^ 0011 = 0110)\n",
    "bin(c)"
   ]
  },
  {
   "cell_type": "code",
   "execution_count": 31,
   "id": "791f67ac-29cc-4ce1-a3ba-2617e3c7f7cb",
   "metadata": {},
   "outputs": [
    {
     "data": {
      "text/plain": [
       "'-0b110'"
      ]
     },
     "execution_count": 31,
     "metadata": {},
     "output_type": "execute_result"
    }
   ],
   "source": [
    "# Bitwise NOT\n",
    "d = ~5       # -6 (binary NOT of 0101 is -0110 in two's complement)\n",
    "bin(d)"
   ]
  },
  {
   "cell_type": "markdown",
   "id": "8f51785e-6f05-45df-bfe5-bd687f66a490",
   "metadata": {},
   "source": [
    "### Identity Operators"
   ]
  },
  {
   "cell_type": "raw",
   "id": "70008418-53f0-4f4b-b39b-4624aea7dc03",
   "metadata": {},
   "source": [
    "Identity Operators check whether two variables refer to the same object in memory.\n",
    "is (True if two variables refer to the same object)\n",
    "is not (True if they do not refer to the same object)"
   ]
  },
  {
   "cell_type": "markdown",
   "id": "17f62a61-8d93-4067-9a1a-1dfff3853ab5",
   "metadata": {},
   "source": [
    "### Examples of Identity operators"
   ]
  },
  {
   "cell_type": "code",
   "execution_count": 36,
   "id": "8485b5d2-060b-48fc-9076-b7dd38cb9bfd",
   "metadata": {},
   "outputs": [
    {
     "name": "stdout",
     "output_type": "stream",
     "text": [
      "True\n",
      "True\n"
     ]
    }
   ],
   "source": [
    "# is, is not\n",
    "a = [1, 2, 3]\n",
    "b = a\n",
    "c = [1, 2, 3]\n",
    "\n",
    "x = (a is b)       # True (both refer to the same object)\n",
    "y = (a is not c)   # True (different objects, though with the same contents)\n",
    "print(x)\n",
    "print(y)\n"
   ]
  },
  {
   "cell_type": "markdown",
   "id": "ce101533-4d49-4d5d-a256-5155f2a2e33f",
   "metadata": {},
   "source": [
    "### Membership Operators"
   ]
  },
  {
   "cell_type": "raw",
   "id": "77eec7da-038b-467f-bb6b-3093aef0ec44",
   "metadata": {},
   "source": [
    "Membership operators in are used to test whether a value is a member of a sequence\n",
    "in (True if a value is found in the sequence)\n",
    "not in (True if a value is not found in the sequence)"
   ]
  },
  {
   "cell_type": "markdown",
   "id": "387d1d68-0460-4559-bd2f-cb48518f3b3b",
   "metadata": {},
   "source": [
    "### Examples of Membership Operators are"
   ]
  },
  {
   "cell_type": "code",
   "execution_count": 37,
   "id": "184f7ef2-14b3-4db3-895e-487b161c4d51",
   "metadata": {},
   "outputs": [
    {
     "name": "stdout",
     "output_type": "stream",
     "text": [
      "True\n"
     ]
    }
   ],
   "source": [
    "# in\n",
    "a = 3 in [1, 2, 3]        # True\n",
    "print(a)\n"
   ]
  },
  {
   "cell_type": "code",
   "execution_count": 57,
   "id": "9c0cb8c3-d8d0-4cba-b713-a4fe9fd5a2ea",
   "metadata": {},
   "outputs": [
    {
     "name": "stdout",
     "output_type": "stream",
     "text": [
      "True\n",
      "False\n"
     ]
    }
   ],
   "source": [
    "# not in\n",
    "b = 4 not in [1, 2, 3]    # True\n",
    "print(b)\n",
    "c = 3 not in [1, 2, 3]      # False\n",
    "print(c)"
   ]
  },
  {
   "cell_type": "markdown",
   "id": "49e4da00-19f6-43d7-9fe7-4f9a1e000690",
   "metadata": {},
   "source": [
    "## Ques 5. Explain the concept of type casting in Python with examples."
   ]
  },
  {
   "cell_type": "raw",
   "id": "f75533aa-05da-4c2f-bc8a-1541e05757a8",
   "metadata": {},
   "source": [
    "Typecasting in Python refers to the process of converting one data type into another. It allows you to change a variable from one type to another, such as converting a string to an integer, a float to a string, or vice versa. This is useful when performing operations that require a specific data type.\n",
    "\n",
    "There are two types of type casting in python:"
   ]
  },
  {
   "cell_type": "markdown",
   "id": "ba72d91b-ae8c-4c5c-a93f-d2d7974aba80",
   "metadata": {},
   "source": [
    "### Implicit type casting"
   ]
  },
  {
   "cell_type": "raw",
   "id": "3b3a1789-0efa-44d3-addd-e53bde845c52",
   "metadata": {},
   "source": [
    "Python automatically converts one data type to another without explicit intervention. This happens when the conversion is safe and there is no risk of losing information."
   ]
  },
  {
   "cell_type": "code",
   "execution_count": 40,
   "id": "00e67efe-1ca0-4ca9-aa12-91d5205653a7",
   "metadata": {},
   "outputs": [
    {
     "name": "stdout",
     "output_type": "stream",
     "text": [
      "7.5\n"
     ]
    }
   ],
   "source": [
    "a = 5        # int\n",
    "b = 2.5      # float\n",
    "result = a + b   # implicit conversion of 'a' to float\n",
    "print(result)    # Output: 7.5"
   ]
  },
  {
   "cell_type": "markdown",
   "id": "43e3fced-ef09-48c2-a104-c6862c29fc79",
   "metadata": {},
   "source": [
    "### Explicit type casting"
   ]
  },
  {
   "cell_type": "raw",
   "id": "cff9cbcc-3e14-4adf-8952-c38963965047",
   "metadata": {},
   "source": [
    "You manually convert a data type using type conversion functions like int(), float(), str(), etc."
   ]
  },
  {
   "cell_type": "code",
   "execution_count": 41,
   "id": "d834af54-86f7-4af5-b58c-a2500547d57a",
   "metadata": {},
   "outputs": [
    {
     "name": "stdout",
     "output_type": "stream",
     "text": [
      "123\n"
     ]
    }
   ],
   "source": [
    "a = \"123\"       # string\n",
    "b = int(a)      # explicitly converting string to integer\n",
    "print(b)        # Output: 123\n"
   ]
  },
  {
   "cell_type": "code",
   "execution_count": 51,
   "id": "b955f5bb-58cf-4650-8ae7-d2ccbed36226",
   "metadata": {},
   "outputs": [
    {
     "name": "stdout",
     "output_type": "stream",
     "text": [
      "10\n"
     ]
    }
   ],
   "source": [
    "a = \"10\"\n",
    "b = int(a)\n",
    "print(b)  # Output: 10"
   ]
  },
  {
   "cell_type": "code",
   "execution_count": 52,
   "id": "04391386-77d8-44f6-a4d0-4e993a78a95e",
   "metadata": {},
   "outputs": [
    {
     "name": "stdout",
     "output_type": "stream",
     "text": [
      "10.5\n"
     ]
    }
   ],
   "source": [
    "a = \"10.5\"\n",
    "b = float(a)\n",
    "print(b)  # Output: 10.5"
   ]
  },
  {
   "cell_type": "code",
   "execution_count": 53,
   "id": "92c8ef25-34a0-4fab-83f1-da5eab2a8747",
   "metadata": {},
   "outputs": [
    {
     "name": "stdout",
     "output_type": "stream",
     "text": [
      "100\n"
     ]
    }
   ],
   "source": [
    "a = 100\n",
    "b = str(a)\n",
    "print(b)  # Output: '100'"
   ]
  },
  {
   "cell_type": "code",
   "execution_count": 54,
   "id": "a4192fc3-0c19-427a-8c3d-f01fcc48b6fc",
   "metadata": {},
   "outputs": [
    {
     "name": "stdout",
     "output_type": "stream",
     "text": [
      "['h', 'e', 'l', 'l', 'o']\n"
     ]
    }
   ],
   "source": [
    "a = \"hello\"\n",
    "b = list(a)\n",
    "print(b)  # Output: ['h', 'e', 'l', 'l', 'o']"
   ]
  },
  {
   "cell_type": "markdown",
   "id": "ef8fcedd-bf09-4b88-a996-5d665ec5b75c",
   "metadata": {},
   "source": [
    "## Ques 6. How do Conditional statements work in python? Illustrate with examples"
   ]
  },
  {
   "cell_type": "raw",
   "id": "0b489427-8d57-465e-9152-710ed4199e30",
   "metadata": {},
   "source": [
    "Conditional statements in Python allow you to execute code blocks based on certain conditions. They use logical expressions to evaluate whether a statement is True or False, and based on the result, the corresponding block of code is executed.\n",
    "\n",
    "The conditional statements in Python are if, elif, and else.\n",
    "\n",
    "The if statement is used to test a condition. If the condition is True, the code block indented below the if statement will execute.\n",
    "\n",
    "The elif statement checks another condition if the first if condition is False. You can have multiple elif conditions.\n",
    "\n",
    "The else statement is executed if all preceding conditions are False. It doesn't require a condition."
   ]
  },
  {
   "cell_type": "code",
   "execution_count": 48,
   "id": "0e6f0e84-f1c4-4876-b531-a24905cfd8a4",
   "metadata": {},
   "outputs": [
    {
     "name": "stdout",
     "output_type": "stream",
     "text": [
      "x is greater than 5 but less than or equal to 20\n"
     ]
    }
   ],
   "source": [
    "x = 10\n",
    "\n",
    "if x > 20:\n",
    "    print(\"x is greater than 20\")\n",
    "elif x > 5:\n",
    "    print(\"x is greater than 5 but less than or equal to 20\")\n",
    "else:\n",
    "    print(\"x is less than or equal to 5\")\n"
   ]
  },
  {
   "cell_type": "code",
   "execution_count": 49,
   "id": "48b8c313-3d41-46d2-8a93-b57615cee1d1",
   "metadata": {},
   "outputs": [
    {
     "name": "stdout",
     "output_type": "stream",
     "text": [
      "x is between 5 and 10\n"
     ]
    }
   ],
   "source": [
    "if x > 5:\n",
    "    if x > 10:\n",
    "        print(\"x is greater than 10\")\n",
    "    else:\n",
    "        print(\"x is between 5 and 10\")"
   ]
  },
  {
   "cell_type": "markdown",
   "id": "a2b4cfa3-478c-4cd0-8e5d-e9c5dd72f84c",
   "metadata": {},
   "source": [
    " ## Ques 7. Describe the different types of loops in python and their use cases with examples"
   ]
  },
  {
   "cell_type": "raw",
   "id": "cf42c151-a0d8-4ae3-80ff-ee574cf60c54",
   "metadata": {},
   "source": [
    "In Python, there are types of loops for loop and, while loop. Each serves different purposes and is used in different scenarios. Here's a breakdown of each:"
   ]
  },
  {
   "cell_type": "markdown",
   "id": "77e1d1db-1127-4943-93ad-1d0412f11dfc",
   "metadata": {},
   "source": [
    "## For Loop"
   ]
  },
  {
   "cell_type": "raw",
   "id": "cf8f13ab-1c13-4196-8a54-6e6135a478ad",
   "metadata": {},
   "source": [
    "A for loop in Python is used to iterate over a sequence (like a list, tuple, string, or range). It is commonly used when the number of iterations is known or when working with iterable objects.\n",
    "\n",
    "Use Cases:\n",
    "\n",
    "Iterating through a list of items\n",
    "Looping through characters in a string\n",
    "Performing repetitive operations for a known number of times"
   ]
  },
  {
   "cell_type": "code",
   "execution_count": 58,
   "id": "ef3fdf8b-506e-48e3-9731-b566da5155cb",
   "metadata": {},
   "outputs": [
    {
     "name": "stdout",
     "output_type": "stream",
     "text": [
      "1\n",
      "2\n",
      "3\n",
      "4\n",
      "5\n"
     ]
    }
   ],
   "source": [
    "numbers = [1, 2, 3, 4, 5]\n",
    "for num in numbers:\n",
    "    print(num)"
   ]
  },
  {
   "cell_type": "code",
   "execution_count": 61,
   "id": "f3c3c57a-d8fc-4b66-b343-247d1bb447c1",
   "metadata": {},
   "outputs": [
    {
     "name": "stdout",
     "output_type": "stream",
     "text": [
      "Iteration 0\n",
      "Iteration 1\n",
      "Iteration 2\n",
      "Iteration 3\n",
      "Iteration 4\n"
     ]
    }
   ],
   "source": [
    "# Range Example (repeating a task a specific number of times)\n",
    "for i in range(5):\n",
    "    print(\"Iteration\", i)"
   ]
  },
  {
   "cell_type": "markdown",
   "id": "9093b932-0026-4d33-80aa-c77975ff6040",
   "metadata": {},
   "source": [
    "## While Loop"
   ]
  },
  {
   "cell_type": "raw",
   "id": "2e7e92cf-ee05-4ebf-987f-ddd3ef2e56d7",
   "metadata": {},
   "source": [
    "A while loop runs as long as a condition is true. It is commonly used when the number of iterations is not known ahead of time and depends on some condition that needs to be met.\n",
    "\n",
    "Use Cases:\n",
    "\n",
    "Continuously running a block of code until a certain condition is no longer met.\n",
    "Handling input from users in a loop.\n",
    "Iterating until a particular event occurs."
   ]
  },
  {
   "cell_type": "code",
   "execution_count": 60,
   "id": "d9a98d00-9dbe-47d6-a528-7d5e178c0326",
   "metadata": {},
   "outputs": [
    {
     "name": "stdout",
     "output_type": "stream",
     "text": [
      "Counter: 0\n",
      "Counter: 1\n",
      "Counter: 2\n",
      "Counter: 3\n",
      "Counter: 4\n"
     ]
    }
   ],
   "source": [
    "counter = 0\n",
    "while counter < 5:\n",
    "    print(\"Counter:\", counter)\n",
    "    counter += 1"
   ]
  },
  {
   "cell_type": "code",
   "execution_count": null,
   "id": "8198538b-c6ab-4003-b625-4f07590ed625",
   "metadata": {},
   "outputs": [],
   "source": [
    "# Infinite Loop Example (terminating based on user input)\n",
    "user_input = \"\"\n",
    "while user_input != \"exit\":\n",
    "    user_input = input(\"Enter 'exit' to stop: \")"
   ]
  }
 ],
 "metadata": {
  "kernelspec": {
   "display_name": "Python 3 (ipykernel)",
   "language": "python",
   "name": "python3"
  },
  "language_info": {
   "codemirror_mode": {
    "name": "ipython",
    "version": 3
   },
   "file_extension": ".py",
   "mimetype": "text/x-python",
   "name": "python",
   "nbconvert_exporter": "python",
   "pygments_lexer": "ipython3",
   "version": "3.10.8"
  }
 },
 "nbformat": 4,
 "nbformat_minor": 5
}
